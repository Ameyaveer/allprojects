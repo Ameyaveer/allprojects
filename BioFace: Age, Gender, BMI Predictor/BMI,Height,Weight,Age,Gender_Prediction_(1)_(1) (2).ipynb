{
 "cells": [
  {
   "cell_type": "code",
   "execution_count": 2,
   "metadata": {
    "colab": {
     "base_uri": "https://localhost:8080/"
    },
    "id": "391wfClrhuFI",
    "outputId": "bb6d56e9-4446-4f2e-cc1e-b09304eea07d"
   },
   "outputs": [
    {
     "name": "stdout",
     "output_type": "stream",
     "text": [
      "Total 228 images \n"
     ]
    }
   ],
   "source": [
    "import pandas as pd\n",
    "data_folder = \"/content/sample_data/Images\"\n",
    "from glob import glob\n",
    "all_files = glob(data_folder+\"/*\")\n",
    "\n",
    "\n",
    "all_images = sorted([img for img in all_files if img.endswith((\".png\",\".jpg\", \".jpeg\", \".JPG\"))])\n",
    "\n",
    "print(\"Total {} images \".format(len(all_images)))"
   ]
  },
  {
   "cell_type": "code",
   "execution_count": 3,
   "metadata": {
    "colab": {
     "base_uri": "https://localhost:8080/",
     "height": 528
    },
    "id": "uTGmHT7jpB9O",
    "outputId": "297c518d-b9f1-4a31-9763-a5764c27e766"
   },
   "outputs": [
    {
     "data": {
      "text/html": [
       "\n",
       "  <div id=\"df-f28d7f1d-4716-4900-a9e2-1a4df87b59d0\" class=\"colab-df-container\">\n",
       "    <div>\n",
       "<style scoped>\n",
       "    .dataframe tbody tr th:only-of-type {\n",
       "        vertical-align: middle;\n",
       "    }\n",
       "\n",
       "    .dataframe tbody tr th {\n",
       "        vertical-align: top;\n",
       "    }\n",
       "\n",
       "    .dataframe thead th {\n",
       "        text-align: right;\n",
       "    }\n",
       "</style>\n",
       "<table border=\"1\" class=\"dataframe\">\n",
       "  <thead>\n",
       "    <tr style=\"text-align: right;\">\n",
       "      <th></th>\n",
       "      <th>UID</th>\n",
       "      <th>path</th>\n",
       "      <th>id</th>\n",
       "      <th>name</th>\n",
       "      <th>Unnamed: 3</th>\n",
       "      <th>Age</th>\n",
       "      <th>Gender</th>\n",
       "      <th>height</th>\n",
       "      <th>weight</th>\n",
       "      <th>BMI</th>\n",
       "    </tr>\n",
       "  </thead>\n",
       "  <tbody>\n",
       "    <tr>\n",
       "      <th>0</th>\n",
       "      <td>akshay</td>\n",
       "      <td>/content/sample_data/Images/akshay1.jpeg</td>\n",
       "      <td>1</td>\n",
       "      <td>akshay kumar</td>\n",
       "      <td>NaN</td>\n",
       "      <td>54</td>\n",
       "      <td>1</td>\n",
       "      <td>1.78</td>\n",
       "      <td>80</td>\n",
       "      <td>25.249337</td>\n",
       "    </tr>\n",
       "    <tr>\n",
       "      <th>1</th>\n",
       "      <td>akshay</td>\n",
       "      <td>/content/sample_data/Images/akshay10.jpg</td>\n",
       "      <td>1</td>\n",
       "      <td>akshay kumar</td>\n",
       "      <td>NaN</td>\n",
       "      <td>54</td>\n",
       "      <td>1</td>\n",
       "      <td>1.78</td>\n",
       "      <td>80</td>\n",
       "      <td>25.249337</td>\n",
       "    </tr>\n",
       "    <tr>\n",
       "      <th>2</th>\n",
       "      <td>akshay</td>\n",
       "      <td>/content/sample_data/Images/akshay11.jpg</td>\n",
       "      <td>1</td>\n",
       "      <td>akshay kumar</td>\n",
       "      <td>NaN</td>\n",
       "      <td>54</td>\n",
       "      <td>1</td>\n",
       "      <td>1.78</td>\n",
       "      <td>80</td>\n",
       "      <td>25.249337</td>\n",
       "    </tr>\n",
       "    <tr>\n",
       "      <th>3</th>\n",
       "      <td>akshay</td>\n",
       "      <td>/content/sample_data/Images/akshay12.jpg</td>\n",
       "      <td>1</td>\n",
       "      <td>akshay kumar</td>\n",
       "      <td>NaN</td>\n",
       "      <td>54</td>\n",
       "      <td>1</td>\n",
       "      <td>1.78</td>\n",
       "      <td>80</td>\n",
       "      <td>25.249337</td>\n",
       "    </tr>\n",
       "    <tr>\n",
       "      <th>4</th>\n",
       "      <td>akshay</td>\n",
       "      <td>/content/sample_data/Images/akshay13.jpg</td>\n",
       "      <td>1</td>\n",
       "      <td>akshay kumar</td>\n",
       "      <td>NaN</td>\n",
       "      <td>54</td>\n",
       "      <td>1</td>\n",
       "      <td>1.78</td>\n",
       "      <td>80</td>\n",
       "      <td>25.249337</td>\n",
       "    </tr>\n",
       "    <tr>\n",
       "      <th>...</th>\n",
       "      <td>...</td>\n",
       "      <td>...</td>\n",
       "      <td>...</td>\n",
       "      <td>...</td>\n",
       "      <td>...</td>\n",
       "      <td>...</td>\n",
       "      <td>...</td>\n",
       "      <td>...</td>\n",
       "      <td>...</td>\n",
       "      <td>...</td>\n",
       "    </tr>\n",
       "    <tr>\n",
       "      <th>223</th>\n",
       "      <td>vikky</td>\n",
       "      <td>/content/sample_data/Images/vikky5.jpg</td>\n",
       "      <td>8</td>\n",
       "      <td>vicky kaushal</td>\n",
       "      <td>NaN</td>\n",
       "      <td>34</td>\n",
       "      <td>1</td>\n",
       "      <td>1.83</td>\n",
       "      <td>80</td>\n",
       "      <td>23.888441</td>\n",
       "    </tr>\n",
       "    <tr>\n",
       "      <th>224</th>\n",
       "      <td>vikky</td>\n",
       "      <td>/content/sample_data/Images/vikky6.jpg</td>\n",
       "      <td>8</td>\n",
       "      <td>vicky kaushal</td>\n",
       "      <td>NaN</td>\n",
       "      <td>34</td>\n",
       "      <td>1</td>\n",
       "      <td>1.83</td>\n",
       "      <td>80</td>\n",
       "      <td>23.888441</td>\n",
       "    </tr>\n",
       "    <tr>\n",
       "      <th>225</th>\n",
       "      <td>vikky</td>\n",
       "      <td>/content/sample_data/Images/vikky7.jpg</td>\n",
       "      <td>8</td>\n",
       "      <td>vicky kaushal</td>\n",
       "      <td>NaN</td>\n",
       "      <td>34</td>\n",
       "      <td>1</td>\n",
       "      <td>1.83</td>\n",
       "      <td>80</td>\n",
       "      <td>23.888441</td>\n",
       "    </tr>\n",
       "    <tr>\n",
       "      <th>226</th>\n",
       "      <td>vikky</td>\n",
       "      <td>/content/sample_data/Images/vikky8.jpg</td>\n",
       "      <td>8</td>\n",
       "      <td>vicky kaushal</td>\n",
       "      <td>NaN</td>\n",
       "      <td>34</td>\n",
       "      <td>1</td>\n",
       "      <td>1.83</td>\n",
       "      <td>80</td>\n",
       "      <td>23.888441</td>\n",
       "    </tr>\n",
       "    <tr>\n",
       "      <th>227</th>\n",
       "      <td>vikky</td>\n",
       "      <td>/content/sample_data/Images/vikky9.jpg</td>\n",
       "      <td>8</td>\n",
       "      <td>vicky kaushal</td>\n",
       "      <td>NaN</td>\n",
       "      <td>34</td>\n",
       "      <td>1</td>\n",
       "      <td>1.83</td>\n",
       "      <td>80</td>\n",
       "      <td>23.888441</td>\n",
       "    </tr>\n",
       "  </tbody>\n",
       "</table>\n",
       "<p>228 rows × 10 columns</p>\n",
       "</div>\n",
       "    <div class=\"colab-df-buttons\">\n",
       "\n",
       "  <div class=\"colab-df-container\">\n",
       "    <button class=\"colab-df-convert\" onclick=\"convertToInteractive('df-f28d7f1d-4716-4900-a9e2-1a4df87b59d0')\"\n",
       "            title=\"Convert this dataframe to an interactive table.\"\n",
       "            style=\"display:none;\">\n",
       "\n",
       "  <svg xmlns=\"http://www.w3.org/2000/svg\" height=\"24px\" viewBox=\"0 -960 960 960\">\n",
       "    <path d=\"M120-120v-720h720v720H120Zm60-500h600v-160H180v160Zm220 220h160v-160H400v160Zm0 220h160v-160H400v160ZM180-400h160v-160H180v160Zm440 0h160v-160H620v160ZM180-180h160v-160H180v160Zm440 0h160v-160H620v160Z\"/>\n",
       "  </svg>\n",
       "    </button>\n",
       "\n",
       "  <style>\n",
       "    .colab-df-container {\n",
       "      display:flex;\n",
       "      gap: 12px;\n",
       "    }\n",
       "\n",
       "    .colab-df-convert {\n",
       "      background-color: #E8F0FE;\n",
       "      border: none;\n",
       "      border-radius: 50%;\n",
       "      cursor: pointer;\n",
       "      display: none;\n",
       "      fill: #1967D2;\n",
       "      height: 32px;\n",
       "      padding: 0 0 0 0;\n",
       "      width: 32px;\n",
       "    }\n",
       "\n",
       "    .colab-df-convert:hover {\n",
       "      background-color: #E2EBFA;\n",
       "      box-shadow: 0px 1px 2px rgba(60, 64, 67, 0.3), 0px 1px 3px 1px rgba(60, 64, 67, 0.15);\n",
       "      fill: #174EA6;\n",
       "    }\n",
       "\n",
       "    .colab-df-buttons div {\n",
       "      margin-bottom: 4px;\n",
       "    }\n",
       "\n",
       "    [theme=dark] .colab-df-convert {\n",
       "      background-color: #3B4455;\n",
       "      fill: #D2E3FC;\n",
       "    }\n",
       "\n",
       "    [theme=dark] .colab-df-convert:hover {\n",
       "      background-color: #434B5C;\n",
       "      box-shadow: 0px 1px 3px 1px rgba(0, 0, 0, 0.15);\n",
       "      filter: drop-shadow(0px 1px 2px rgba(0, 0, 0, 0.3));\n",
       "      fill: #FFFFFF;\n",
       "    }\n",
       "  </style>\n",
       "\n",
       "    <script>\n",
       "      const buttonEl =\n",
       "        document.querySelector('#df-f28d7f1d-4716-4900-a9e2-1a4df87b59d0 button.colab-df-convert');\n",
       "      buttonEl.style.display =\n",
       "        google.colab.kernel.accessAllowed ? 'block' : 'none';\n",
       "\n",
       "      async function convertToInteractive(key) {\n",
       "        const element = document.querySelector('#df-f28d7f1d-4716-4900-a9e2-1a4df87b59d0');\n",
       "        const dataTable =\n",
       "          await google.colab.kernel.invokeFunction('convertToInteractive',\n",
       "                                                    [key], {});\n",
       "        if (!dataTable) return;\n",
       "\n",
       "        const docLinkHtml = 'Like what you see? Visit the ' +\n",
       "          '<a target=\"_blank\" href=https://colab.research.google.com/notebooks/data_table.ipynb>data table notebook</a>'\n",
       "          + ' to learn more about interactive tables.';\n",
       "        element.innerHTML = '';\n",
       "        dataTable['output_type'] = 'display_data';\n",
       "        await google.colab.output.renderOutput(dataTable, element);\n",
       "        const docLink = document.createElement('div');\n",
       "        docLink.innerHTML = docLinkHtml;\n",
       "        element.appendChild(docLink);\n",
       "      }\n",
       "    </script>\n",
       "  </div>\n",
       "\n",
       "\n",
       "<div id=\"df-b9ea36f7-31a2-4a6d-aceb-0436fba9b33b\">\n",
       "  <button class=\"colab-df-quickchart\" onclick=\"quickchart('df-b9ea36f7-31a2-4a6d-aceb-0436fba9b33b')\"\n",
       "            title=\"Suggest charts.\"\n",
       "            style=\"display:none;\">\n",
       "\n",
       "<svg xmlns=\"http://www.w3.org/2000/svg\" height=\"24px\"viewBox=\"0 0 24 24\"\n",
       "     width=\"24px\">\n",
       "    <g>\n",
       "        <path d=\"M19 3H5c-1.1 0-2 .9-2 2v14c0 1.1.9 2 2 2h14c1.1 0 2-.9 2-2V5c0-1.1-.9-2-2-2zM9 17H7v-7h2v7zm4 0h-2V7h2v10zm4 0h-2v-4h2v4z\"/>\n",
       "    </g>\n",
       "</svg>\n",
       "  </button>\n",
       "\n",
       "<style>\n",
       "  .colab-df-quickchart {\n",
       "      --bg-color: #E8F0FE;\n",
       "      --fill-color: #1967D2;\n",
       "      --hover-bg-color: #E2EBFA;\n",
       "      --hover-fill-color: #174EA6;\n",
       "      --disabled-fill-color: #AAA;\n",
       "      --disabled-bg-color: #DDD;\n",
       "  }\n",
       "\n",
       "  [theme=dark] .colab-df-quickchart {\n",
       "      --bg-color: #3B4455;\n",
       "      --fill-color: #D2E3FC;\n",
       "      --hover-bg-color: #434B5C;\n",
       "      --hover-fill-color: #FFFFFF;\n",
       "      --disabled-bg-color: #3B4455;\n",
       "      --disabled-fill-color: #666;\n",
       "  }\n",
       "\n",
       "  .colab-df-quickchart {\n",
       "    background-color: var(--bg-color);\n",
       "    border: none;\n",
       "    border-radius: 50%;\n",
       "    cursor: pointer;\n",
       "    display: none;\n",
       "    fill: var(--fill-color);\n",
       "    height: 32px;\n",
       "    padding: 0;\n",
       "    width: 32px;\n",
       "  }\n",
       "\n",
       "  .colab-df-quickchart:hover {\n",
       "    background-color: var(--hover-bg-color);\n",
       "    box-shadow: 0 1px 2px rgba(60, 64, 67, 0.3), 0 1px 3px 1px rgba(60, 64, 67, 0.15);\n",
       "    fill: var(--button-hover-fill-color);\n",
       "  }\n",
       "\n",
       "  .colab-df-quickchart-complete:disabled,\n",
       "  .colab-df-quickchart-complete:disabled:hover {\n",
       "    background-color: var(--disabled-bg-color);\n",
       "    fill: var(--disabled-fill-color);\n",
       "    box-shadow: none;\n",
       "  }\n",
       "\n",
       "  .colab-df-spinner {\n",
       "    border: 2px solid var(--fill-color);\n",
       "    border-color: transparent;\n",
       "    border-bottom-color: var(--fill-color);\n",
       "    animation:\n",
       "      spin 1s steps(1) infinite;\n",
       "  }\n",
       "\n",
       "  @keyframes spin {\n",
       "    0% {\n",
       "      border-color: transparent;\n",
       "      border-bottom-color: var(--fill-color);\n",
       "      border-left-color: var(--fill-color);\n",
       "    }\n",
       "    20% {\n",
       "      border-color: transparent;\n",
       "      border-left-color: var(--fill-color);\n",
       "      border-top-color: var(--fill-color);\n",
       "    }\n",
       "    30% {\n",
       "      border-color: transparent;\n",
       "      border-left-color: var(--fill-color);\n",
       "      border-top-color: var(--fill-color);\n",
       "      border-right-color: var(--fill-color);\n",
       "    }\n",
       "    40% {\n",
       "      border-color: transparent;\n",
       "      border-right-color: var(--fill-color);\n",
       "      border-top-color: var(--fill-color);\n",
       "    }\n",
       "    60% {\n",
       "      border-color: transparent;\n",
       "      border-right-color: var(--fill-color);\n",
       "    }\n",
       "    80% {\n",
       "      border-color: transparent;\n",
       "      border-right-color: var(--fill-color);\n",
       "      border-bottom-color: var(--fill-color);\n",
       "    }\n",
       "    90% {\n",
       "      border-color: transparent;\n",
       "      border-bottom-color: var(--fill-color);\n",
       "    }\n",
       "  }\n",
       "</style>\n",
       "\n",
       "  <script>\n",
       "    async function quickchart(key) {\n",
       "      const quickchartButtonEl =\n",
       "        document.querySelector('#' + key + ' button');\n",
       "      quickchartButtonEl.disabled = true;  // To prevent multiple clicks.\n",
       "      quickchartButtonEl.classList.add('colab-df-spinner');\n",
       "      try {\n",
       "        const charts = await google.colab.kernel.invokeFunction(\n",
       "            'suggestCharts', [key], {});\n",
       "      } catch (error) {\n",
       "        console.error('Error during call to suggestCharts:', error);\n",
       "      }\n",
       "      quickchartButtonEl.classList.remove('colab-df-spinner');\n",
       "      quickchartButtonEl.classList.add('colab-df-quickchart-complete');\n",
       "    }\n",
       "    (() => {\n",
       "      let quickchartButtonEl =\n",
       "        document.querySelector('#df-b9ea36f7-31a2-4a6d-aceb-0436fba9b33b button');\n",
       "      quickchartButtonEl.style.display =\n",
       "        google.colab.kernel.accessAllowed ? 'block' : 'none';\n",
       "    })();\n",
       "  </script>\n",
       "</div>\n",
       "    </div>\n",
       "  </div>\n"
      ],
      "text/plain": [
       "        UID                                      path  id           name  \\\n",
       "0    akshay  /content/sample_data/Images/akshay1.jpeg   1   akshay kumar   \n",
       "1    akshay  /content/sample_data/Images/akshay10.jpg   1   akshay kumar   \n",
       "2    akshay  /content/sample_data/Images/akshay11.jpg   1   akshay kumar   \n",
       "3    akshay  /content/sample_data/Images/akshay12.jpg   1   akshay kumar   \n",
       "4    akshay  /content/sample_data/Images/akshay13.jpg   1   akshay kumar   \n",
       "..      ...                                       ...  ..            ...   \n",
       "223   vikky    /content/sample_data/Images/vikky5.jpg   8  vicky kaushal   \n",
       "224   vikky    /content/sample_data/Images/vikky6.jpg   8  vicky kaushal   \n",
       "225   vikky    /content/sample_data/Images/vikky7.jpg   8  vicky kaushal   \n",
       "226   vikky    /content/sample_data/Images/vikky8.jpg   8  vicky kaushal   \n",
       "227   vikky    /content/sample_data/Images/vikky9.jpg   8  vicky kaushal   \n",
       "\n",
       "     Unnamed: 3  Age  Gender  height  weight        BMI  \n",
       "0           NaN   54       1    1.78      80  25.249337  \n",
       "1           NaN   54       1    1.78      80  25.249337  \n",
       "2           NaN   54       1    1.78      80  25.249337  \n",
       "3           NaN   54       1    1.78      80  25.249337  \n",
       "4           NaN   54       1    1.78      80  25.249337  \n",
       "..          ...  ...     ...     ...     ...        ...  \n",
       "223         NaN   34       1    1.83      80  23.888441  \n",
       "224         NaN   34       1    1.83      80  23.888441  \n",
       "225         NaN   34       1    1.83      80  23.888441  \n",
       "226         NaN   34       1    1.83      80  23.888441  \n",
       "227         NaN   34       1    1.83      80  23.888441  \n",
       "\n",
       "[228 rows x 10 columns]"
      ]
     },
     "execution_count": 3,
     "metadata": {},
     "output_type": "execute_result"
    }
   ],
   "source": [
    "from pathlib import Path\n",
    "\n",
    "def get_index_of_digit(string):\n",
    "    import re\n",
    "    match = re.search(\"\\d\", Path(string).stem)\n",
    "    return match.start(0)\n",
    "\n",
    "id_path = [(Path(image).stem[:(get_index_of_digit(Path(image).stem))], image) for image in all_images]\n",
    "\n",
    "label_file = \"/content/BMI, age, gender data.csv\"\n",
    "image_df = pd.DataFrame(id_path, columns=['UID', 'path'])\n",
    "profile_df = pd.read_csv(label_file)\n",
    "profile_df\n",
    "\n",
    "data_df = image_df.merge(profile_df)\n",
    "data_df"
   ]
  },
  {
   "cell_type": "code",
   "execution_count": 4,
   "metadata": {
    "colab": {
     "base_uri": "https://localhost:8080/",
     "height": 657
    },
    "id": "7ehU6s5O_Cnf",
    "outputId": "ef1b3b01-fa3b-46f9-c778-901fd79bc8ee"
   },
   "outputs": [
    {
     "name": "stderr",
     "output_type": "stream",
     "text": [
      "<ipython-input-4-d89a52e9d42b>:2: UserWarning: \n",
      "\n",
      "`distplot` is a deprecated function and will be removed in seaborn v0.14.0.\n",
      "\n",
      "Please adapt your code to use either `displot` (a figure-level function with\n",
      "similar flexibility) or `histplot` (an axes-level function for histograms).\n",
      "\n",
      "For a guide to updating your code to use the new functions, please see\n",
      "https://gist.github.com/mwaskom/de44147ed2974457ad6372750bbe5751\n",
      "\n",
      "  sns.distplot(data_df['Age'])\n"
     ]
    },
    {
     "data": {
      "text/plain": [
       "<Axes: xlabel='Age', ylabel='Density'>"
      ]
     },
     "execution_count": 4,
     "metadata": {},
     "output_type": "execute_result"
    },
    {
     "data": {
      "image/png": "[encoded data removed]",
      "text/plain": [
       "<Figure size 640x480 with 1 Axes>"
      ]
     },
     "metadata": {},
     "output_type": "display_data"
    }
   ],
   "source": [
    "import seaborn as sns\n",
    "sns.distplot(data_df['Age'])"
   ]
  },
  {
   "cell_type": "code",
   "execution_count": 6,
   "metadata": {
    "colab": {
     "base_uri": "https://localhost:8080/",
     "height": 523
    },
    "id": "tfoBW5EMIKiX",
    "outputId": "4f029601-af30-4de4-d5eb-d78f9c162485"
   },
   "outputs": [
    {
     "data": {
      "text/plain": [
       "<seaborn.axisgrid.FacetGrid at 0x7f0a37f182b0>"
      ]
     },
     "execution_count": 6,
     "metadata": {},
     "output_type": "execute_result"
    },
    {
     "data": {
      "image/png": "[encoded data removed]",
      "text/plain": [
       "<Figure size 500x500 with 1 Axes>"
      ]
     },
     "metadata": {},
     "output_type": "display_data"
    }
   ],
   "source": [
    "sns.displot(data_df['Gender'])\n",
    "# 1 = male\n",
    "# 2 = Female"
   ]
  },
  {
   "cell_type": "code",
   "execution_count": 7,
   "metadata": {
    "colab": {
     "base_uri": "https://localhost:8080/"
    },
    "id": "mDa05IrFi2qI",
    "outputId": "1245094e-f86e-4e93-8608-7c5abd4d2b28"
   },
   "outputs": [
    {
     "name": "stdout",
     "output_type": "stream",
     "text": [
      "Collecting face_recognition\n",
      "  Downloading face_recognition-1.3.0-py2.py3-none-any.whl (15 kB)\n",
      "Collecting face-recognition-models>=0.3.0 (from face_recognition)\n",
      "  Downloading face_recognition_models-0.3.0.tar.gz (100.1 MB)\n",
      "\u001b[2K     \u001b[90m━━━━━━━━━━━━━━━━━━━━━━━━━━━━━━━━━━━━━━━\u001b[0m \u001b[32m100.1/100.1 MB\u001b[0m \u001b[31m9.9 MB/s\u001b[0m eta \u001b[36m0:00:00\u001b[0m\n",
      "\u001b[?25h  Preparing metadata (setup.py) ... \u001b[?25l\u001b[?25hdone\n",
      "Requirement already satisfied: Click>=6.0 in /usr/local/lib/python3.10/dist-packages (from face_recognition) (8.1.7)\n",
      "Requirement already satisfied: dlib>=19.7 in /usr/local/lib/python3.10/dist-packages (from face_recognition) (19.24.2)\n",
      "Requirement already satisfied: numpy in /usr/local/lib/python3.10/dist-packages (from face_recognition) (1.23.5)\n",
      "Requirement already satisfied: Pillow in /usr/local/lib/python3.10/dist-packages (from face_recognition) (9.4.0)\n",
      "Building wheels for collected packages: face-recognition-models\n",
      "  Building wheel for face-recognition-models (setup.py) ... \u001b[?25l\u001b[?25hdone\n",
      "  Created wheel for face-recognition-models: filename=face_recognition_models-0.3.0-py2.py3-none-any.whl size=100566171 sha256=f64befdabdbc19694a7742c2646a683d6508e666f3df1ef2dc5e38e8b0099b74\n",
      "  Stored in directory: /root/.cache/pip/wheels/7a/eb/cf/e9eced74122b679557f597bb7c8e4c739cfcac526db1fd523d\n",
      "Successfully built face-recognition-models\n",
      "Installing collected packages: face-recognition-models, face_recognition\n",
      "Successfully installed face-recognition-models-0.3.0 face_recognition-1.3.0\n"
     ]
    }
   ],
   "source": [
    "!pip install face_recognition"
   ]
  },
  {
   "cell_type": "code",
   "execution_count": 8,
   "metadata": {
    "colab": {
     "base_uri": "https://localhost:8080/"
    },
    "id": "c5YLK5rUh4qa",
    "outputId": "125834dc-a0d3-49a1-b0b2-b03746787aac",
    "scrolled": true
   },
   "outputs": [
    {
     "name": "stdout",
     "output_type": "stream",
     "text": [
      "/content/sample_data/Images/akshay1.jpeg\n",
      "/content/sample_data/Images/akshay10.jpg\n",
      "/content/sample_data/Images/akshay11.jpg\n",
      "/content/sample_data/Images/akshay12.jpg\n",
      "/content/sample_data/Images/akshay13.jpg\n",
      "/content/sample_data/Images/akshay14.jpg\n",
      "/content/sample_data/Images/akshay15.jpg\n",
      "/content/sample_data/Images/akshay16.jpg\n",
      "/content/sample_data/Images/akshay17.jpg\n",
      "/content/sample_data/Images/akshay18.jpg\n",
      "/content/sample_data/Images/akshay19.jpg\n",
      "/content/sample_data/Images/akshay2.jpeg\n",
      "no face found !!!\n",
      "/content/sample_data/Images/akshay20.jpg\n",
      "/content/sample_data/Images/akshay3.jpg\n",
      "/content/sample_data/Images/akshay4.jpg\n",
      "/content/sample_data/Images/akshay5.jpg\n",
      "/content/sample_data/Images/akshay6.jpg\n",
      "/content/sample_data/Images/akshay7.jpg\n",
      "/content/sample_data/Images/akshay8.jpg\n",
      "/content/sample_data/Images/akshay9.jpg\n",
      "/content/sample_data/Images/amir1.jpg\n",
      "/content/sample_data/Images/amir10.jpg\n",
      "/content/sample_data/Images/amir11.jpg\n",
      "/content/sample_data/Images/amir12.jpg\n",
      "/content/sample_data/Images/amir13.jpg\n",
      "/content/sample_data/Images/amir14.jpeg\n",
      "/content/sample_data/Images/amir15.jpg\n",
      "/content/sample_data/Images/amir2.jpg\n",
      "/content/sample_data/Images/amir3.jpg\n",
      "/content/sample_data/Images/amir4.jpeg\n",
      "no face found !!!\n",
      "/content/sample_data/Images/amir5.jpg\n",
      "/content/sample_data/Images/amir7.jpeg\n",
      "/content/sample_data/Images/amir8.jpg\n",
      "/content/sample_data/Images/amir9.jpg\n",
      "/content/sample_data/Images/anupam2.jpg\n",
      "/content/sample_data/Images/anupam3.jpg\n",
      "/content/sample_data/Images/anupam4.jpg\n",
      "/content/sample_data/Images/anupam5.jpg\n",
      "/content/sample_data/Images/anupam6.jpg\n",
      "/content/sample_data/Images/anupam7.jpeg\n",
      "/content/sample_data/Images/anupam8.jpg\n",
      "/content/sample_data/Images/anurag1.jpg\n",
      "/content/sample_data/Images/anurag2.jpg\n",
      "/content/sample_data/Images/anurag3.jpg\n",
      "/content/sample_data/Images/anurag4.jpg\n",
      "/content/sample_data/Images/anurag5.jpg\n",
      "/content/sample_data/Images/arshad1.jpg\n",
      "/content/sample_data/Images/arshad10.jpg\n",
      "/content/sample_data/Images/arshad11.jpg\n",
      "/content/sample_data/Images/arshad12.jpeg\n",
      "/content/sample_data/Images/arshad13.jpg\n",
      "/content/sample_data/Images/arshad14.jpg\n",
      "/content/sample_data/Images/arshad15.jpg\n",
      "/content/sample_data/Images/arshad16.jpg\n",
      "/content/sample_data/Images/arshad2.jpg\n",
      "/content/sample_data/Images/arshad3.jpeg\n",
      "/content/sample_data/Images/arshad4.jpg\n",
      "/content/sample_data/Images/arshad5.jpg\n",
      "/content/sample_data/Images/arshad6.jpg\n",
      "/content/sample_data/Images/arshad7.jpeg\n",
      "/content/sample_data/Images/arshad8.jpeg\n",
      "/content/sample_data/Images/arshad9.jpg\n",
      "/content/sample_data/Images/ayushman1.jpg\n",
      "/content/sample_data/Images/ayushman2.jpeg\n",
      "/content/sample_data/Images/ayushman3.JPG\n",
      "/content/sample_data/Images/ayushman4.jpg\n",
      "/content/sample_data/Images/ayushman5.jpg\n",
      "/content/sample_data/Images/ja1.jpg\n",
      "/content/sample_data/Images/ja10.jpg\n",
      "/content/sample_data/Images/ja11.jpg\n",
      "/content/sample_data/Images/ja12.jpg\n",
      "/content/sample_data/Images/ja13.jpeg\n",
      "/content/sample_data/Images/ja14.jpg\n",
      "/content/sample_data/Images/ja15.jpg\n",
      "/content/sample_data/Images/ja2.jpg\n",
      "/content/sample_data/Images/ja3.jpg\n",
      "/content/sample_data/Images/ja4.jpg\n",
      "/content/sample_data/Images/ja5.jpg\n",
      "/content/sample_data/Images/ja6.jpg\n",
      "/content/sample_data/Images/ja7.jpg\n",
      "/content/sample_data/Images/ja8.jpg\n",
      "/content/sample_data/Images/ja9.jpg\n",
      "/content/sample_data/Images/kalki1.jpg\n",
      "/content/sample_data/Images/kalki10.jpg\n",
      "/content/sample_data/Images/kalki11.jpg\n",
      "/content/sample_data/Images/kalki12.jpg\n",
      "/content/sample_data/Images/kalki13.jpeg\n",
      "/content/sample_data/Images/kalki14.jpg\n",
      "/content/sample_data/Images/kalki15.jpg\n",
      "/content/sample_data/Images/kalki2.jpg\n",
      "/content/sample_data/Images/kalki3.jpeg\n",
      "/content/sample_data/Images/kalki4.jpg\n",
      "/content/sample_data/Images/kalki5.jpg\n",
      "/content/sample_data/Images/kalki6.jpg\n",
      "/content/sample_data/Images/kalki7.jpg\n",
      "/content/sample_data/Images/kalki8.jpg\n",
      "/content/sample_data/Images/kalki9.jpg\n",
      "/content/sample_data/Images/kirron1.jpg\n",
      "/content/sample_data/Images/kirron10.jpg\n",
      "/content/sample_data/Images/kirron2.jpg\n",
      "/content/sample_data/Images/kirron3.jpg\n",
      "/content/sample_data/Images/kirron4.jpg\n",
      "/content/sample_data/Images/kirron5.jpg\n",
      "/content/sample_data/Images/kirron6.jpg\n",
      "/content/sample_data/Images/kirron7.jpg\n",
      "/content/sample_data/Images/kirron8.jpg\n",
      "/content/sample_data/Images/kirron9.jpeg\n",
      "/content/sample_data/Images/manoj1.jpg\n",
      "/content/sample_data/Images/manoj2.jpeg\n",
      "/content/sample_data/Images/manoj3.jpg\n",
      "/content/sample_data/Images/manoj4.jpg\n",
      "/content/sample_data/Images/manoj5.JPG\n",
      "/content/sample_data/Images/nawaz1.jpg\n",
      "/content/sample_data/Images/nawaz2.jpg\n",
      "/content/sample_data/Images/nawaz3.jpg\n",
      "/content/sample_data/Images/nawaz4.jpg\n",
      "/content/sample_data/Images/nawaz5.png\n",
      "/content/sample_data/Images/pankaj1.jpg\n",
      "/content/sample_data/Images/pankaj2.jpg\n",
      "/content/sample_data/Images/pankaj3.jpg\n",
      "/content/sample_data/Images/pankaj5.jpg\n",
      "/content/sample_data/Images/pankaj6.jpg\n",
      "/content/sample_data/Images/radhika1.jpg\n",
      "/content/sample_data/Images/radhika10.jpg\n",
      "/content/sample_data/Images/radhika11.jpg\n",
      "/content/sample_data/Images/radhika12.jpg\n",
      "/content/sample_data/Images/radhika13.jpg\n",
      "/content/sample_data/Images/radhika14.jpg\n",
      "/content/sample_data/Images/radhika15.jpg\n",
      "/content/sample_data/Images/radhika2.jpeg\n",
      "/content/sample_data/Images/radhika3.jpg\n",
      "/content/sample_data/Images/radhika4.jpg\n",
      "/content/sample_data/Images/radhika5.jpg\n",
      "/content/sample_data/Images/radhika6.jpg\n",
      "/content/sample_data/Images/radhika7.jpg\n",
      "/content/sample_data/Images/radhika8.jpg\n",
      "/content/sample_data/Images/radhika9.jpg\n",
      "/content/sample_data/Images/rajkumar1.jpg\n",
      "/content/sample_data/Images/rajkumar2.jpg\n",
      "/content/sample_data/Images/rajkumar3.jpg\n",
      "/content/sample_data/Images/rajkumar4.jpg\n",
      "/content/sample_data/Images/rajkumar5.jpg\n",
      "/content/sample_data/Images/ratna1.jpeg\n",
      "/content/sample_data/Images/ratna2.jpg\n",
      "/content/sample_data/Images/ratna3.jpg\n",
      "/content/sample_data/Images/ratna4.JPG\n",
      "/content/sample_data/Images/ratna5.jpg\n",
      "/content/sample_data/Images/ratna6.jpg\n",
      "/content/sample_data/Images/richa2.jpg\n",
      "/content/sample_data/Images/richa3.JPG\n",
      "/content/sample_data/Images/richa4.jpg\n",
      "/content/sample_data/Images/richa5.jpg\n",
      "/content/sample_data/Images/salman1.jpg\n",
      "/content/sample_data/Images/salman10.jpg\n",
      "/content/sample_data/Images/salman11.jpg\n",
      "/content/sample_data/Images/salman12.jpg\n",
      "/content/sample_data/Images/salman13.jpg\n",
      "/content/sample_data/Images/salman14.jpg\n",
      "/content/sample_data/Images/salman15.jpg\n",
      "/content/sample_data/Images/salman16.jpg\n",
      "/content/sample_data/Images/salman17.jpg\n",
      "/content/sample_data/Images/salman18.jpg\n",
      "/content/sample_data/Images/salman19.jpg\n",
      "/content/sample_data/Images/salman2.jpg\n",
      "/content/sample_data/Images/salman20.jpg\n",
      "/content/sample_data/Images/salman3.jpg\n",
      "/content/sample_data/Images/salman4.jpg\n",
      "/content/sample_data/Images/salman5.jpeg\n",
      "/content/sample_data/Images/salman6.jpg\n",
      "/content/sample_data/Images/salman7.jpg\n",
      "/content/sample_data/Images/salman8.jpg\n",
      "/content/sample_data/Images/salman9.jpg\n",
      "/content/sample_data/Images/srk1.jpg\n",
      "/content/sample_data/Images/srk10.jpeg\n",
      "/content/sample_data/Images/srk11.jpg\n",
      "/content/sample_data/Images/srk12.jpg\n",
      "/content/sample_data/Images/srk13.jpg\n",
      "/content/sample_data/Images/srk14.jpg\n",
      "/content/sample_data/Images/srk15.jpg\n",
      "/content/sample_data/Images/srk16.jpg\n",
      "/content/sample_data/Images/srk17.jpg\n",
      "/content/sample_data/Images/srk18.jpg\n",
      "/content/sample_data/Images/srk19.jpg\n",
      "/content/sample_data/Images/srk2.jpg\n",
      "/content/sample_data/Images/srk3.jpeg\n",
      "no face found !!!\n",
      "/content/sample_data/Images/srk4.jpg\n",
      "/content/sample_data/Images/srk5.jpg\n",
      "/content/sample_data/Images/srk6.jpg\n",
      "/content/sample_data/Images/srk7.jpg\n",
      "/content/sample_data/Images/srk8.jpg\n",
      "/content/sample_data/Images/srk9.jpg\n",
      "/content/sample_data/Images/supriya1.jpg\n",
      "/content/sample_data/Images/supriya2.jpg\n",
      "/content/sample_data/Images/supriya3.jpg\n",
      "/content/sample_data/Images/supriya4.jpg\n",
      "/content/sample_data/Images/supriya5.jpg\n",
      "/content/sample_data/Images/supriya6.jpg\n",
      "/content/sample_data/Images/tiger1.jpg\n",
      "/content/sample_data/Images/tiger2.jpg\n",
      "/content/sample_data/Images/tiger4.jpg\n",
      "/content/sample_data/Images/tiger5.jpg\n",
      "/content/sample_data/Images/tiger6.jpg\n",
      "/content/sample_data/Images/varun1.jpg\n",
      "/content/sample_data/Images/varun2.jpg\n",
      "/content/sample_data/Images/varun3.jpg\n",
      "/content/sample_data/Images/varun4.jpeg\n",
      "/content/sample_data/Images/varun5.png\n",
      "/content/sample_data/Images/varun6.jpeg\n",
      "/content/sample_data/Images/vikky1.jpg\n",
      "/content/sample_data/Images/vikky10.jpg\n",
      "/content/sample_data/Images/vikky11.jpg\n",
      "/content/sample_data/Images/vikky12.jpg\n",
      "/content/sample_data/Images/vikky13.jpg\n",
      "/content/sample_data/Images/vikky14.jpg\n",
      "/content/sample_data/Images/vikky15.jpg\n",
      "/content/sample_data/Images/vikky16.jpg\n",
      "/content/sample_data/Images/vikky17.jpg\n",
      "/content/sample_data/Images/vikky18.jpg\n",
      "/content/sample_data/Images/vikky19.jpg\n",
      "/content/sample_data/Images/vikky2.jpg\n",
      "/content/sample_data/Images/vikky20.jpg\n",
      "/content/sample_data/Images/vikky3.jpg\n",
      "/content/sample_data/Images/vikky4.jpg\n",
      "/content/sample_data/Images/vikky5.jpg\n",
      "/content/sample_data/Images/vikky6.jpg\n",
      "/content/sample_data/Images/vikky7.jpg\n",
      "/content/sample_data/Images/vikky8.jpg\n",
      "/content/sample_data/Images/vikky9.jpg\n"
     ]
    }
   ],
   "source": [
    "import face_recognition\n",
    "import numpy as np\n",
    "def get_face_encoding(image_path):\n",
    "    print(image_path)\n",
    "    picture_of_me = face_recognition.load_image_file(image_path)\n",
    "    my_face_encoding = face_recognition.face_encodings(picture_of_me)\n",
    "    if not my_face_encoding:\n",
    "        print(\"no face found !!!\")\n",
    "        return np.zeros(128).tolist()\n",
    "    return my_face_encoding[0].tolist()\n",
    "all_faces = []\n",
    "for images in data_df.path:\n",
    "    face_enc = get_face_encoding(images)\n",
    "    all_faces.append(face_enc)"
   ]
  },
  {
   "cell_type": "code",
   "execution_count": 9,
   "metadata": {
    "id": "dUlI55wCCnBY"
   },
   "outputs": [],
   "source": [
    "X = np.array(all_faces)"
   ]
  },
  {
   "cell_type": "code",
   "execution_count": 10,
   "metadata": {
    "id": "xMiJXyUJCoE_"
   },
   "outputs": [],
   "source": [
    "y_age = data_df.Age.values ## all labels\n",
    "y_gender = data_df.Gender.values\n",
    "y_height = data_df.height.values ## all labels\n",
    "y_weight = data_df.weight.values\n",
    "y_BMI = data_df.BMI.values"
   ]
  },
  {
   "cell_type": "code",
   "execution_count": 11,
   "metadata": {
    "id": "PkT-W8BLCqEe"
   },
   "outputs": [],
   "source": [
    "from sklearn.model_selection import train_test_split\n",
    "X_train, X_test, y_age_train, y_age_test, y_gender_train, y_gender_test, y_height_train, y_height_test, y_weight_train, y_weight_test ,y_BMI_train, y_BMI_test = train_test_split(X, y_age,y_gender,y_height,y_weight,y_BMI, random_state=1)"
   ]
  },
  {
   "cell_type": "code",
   "execution_count": 12,
   "metadata": {
    "id": "AKCs_HEzCzyA"
   },
   "outputs": [],
   "source": [
    "def report_goodness(model,X_test,y_test,predictor_log=True):\n",
    "    # Make predictions using the testing set\n",
    "    y_pred = model.predict(X_test)\n",
    "    y_true = y_test\n",
    "    if predictor_log:\n",
    "        y_true = np.log(y_test)\n",
    "    # The coefficients\n",
    "    # The mean squared error\n",
    "    print(\"Mean squared error: %.2f\"      % mean_squared_error(y_true, y_pred))\n",
    "    # Explained variance score: 1 is perfect prediction\n",
    "    print('Variance score: %.2f' % r2_score(y_true, y_pred))\n",
    "\n",
    "    errors = abs(y_pred - y_true)\n",
    "    mape = 100 * np.mean(errors / y_true)\n",
    "    accuracy = 100 - mape\n",
    "    print('Model Performance')\n",
    "    print('Average Error: {:0.4f} degrees.'.format(np.mean(errors)))\n",
    "    print('Accuracy = {:0.2f}%.'.format(accuracy))"
   ]
  },
  {
   "cell_type": "code",
   "execution_count": 13,
   "metadata": {
    "colab": {
     "base_uri": "https://localhost:8080/"
    },
    "id": "aKkLuoDpC8s1",
    "outputId": "c493dbeb-1f4a-4dd2-c849-4ad76ad98ac8"
   },
   "outputs": [
    {
     "name": "stdout",
     "output_type": "stream",
     "text": [
      "Mean squared error: 0.01\n",
      "Variance score: 0.89\n",
      "Model Performance\n",
      "Average Error: 0.0653 degrees.\n",
      "Accuracy = 98.29%.\n"
     ]
    }
   ],
   "source": [
    "from sklearn.kernel_ridge import KernelRidge\n",
    "from sklearn.metrics import mean_squared_error\n",
    "from sklearn.metrics import r2_score\n",
    "\n",
    "model_age = KernelRidge(kernel='rbf', gamma=0.21,alpha=0.0017)\n",
    "\n",
    "model_age = model_age.fit(X_train,np.log(y_age_train))\n",
    "\n",
    "report_goodness(model_age,X_test,y_age_test)"
   ]
  },
  {
   "cell_type": "code",
   "execution_count": 14,
   "metadata": {
    "colab": {
     "base_uri": "https://localhost:8080/"
    },
    "id": "MxPA-erWDPcy",
    "outputId": "9b76ce6c-56cb-4e6b-99b4-431f5ca3ca3e"
   },
   "outputs": [
    {
     "name": "stdout",
     "output_type": "stream",
     "text": [
      "Mean squared error: 0.00\n",
      "Variance score: 0.96\n",
      "Model Performance\n",
      "Average Error: 0.0409 degrees.\n",
      "Accuracy = -inf%.\n"
     ]
    },
    {
     "name": "stderr",
     "output_type": "stream",
     "text": [
      "<ipython-input-12-e55047cb1737>:14: RuntimeWarning: divide by zero encountered in divide\n",
      "  mape = 100 * np.mean(errors / y_true)\n"
     ]
    }
   ],
   "source": [
    "model_gender = KernelRidge(kernel='rbf', gamma=0.21,alpha=0.0017)\n",
    "\n",
    "model_gender = model_gender.fit(X_train,np.log(y_gender_train))\n",
    "\n",
    "report_goodness(model_gender,X_test,y_gender_test)"
   ]
  },
  {
   "cell_type": "code",
   "execution_count": 15,
   "metadata": {
    "colab": {
     "base_uri": "https://localhost:8080/"
    },
    "id": "DebvIHrow7mh",
    "outputId": "dc3942e2-d567-4586-9f06-a2c90f05fa9c"
   },
   "outputs": [
    {
     "name": "stdout",
     "output_type": "stream",
     "text": [
      "Mean squared error: 0.00\n",
      "Variance score: 0.76\n",
      "Model Performance\n",
      "Average Error: 0.0153 degrees.\n",
      "Accuracy = 97.18%.\n"
     ]
    }
   ],
   "source": [
    "model_height = KernelRidge(kernel='rbf', gamma=0.21,alpha=0.0017)\n",
    "\n",
    "model_height = model_height.fit(X_train,np.log(y_height_train))\n",
    "\n",
    "report_goodness(model_height,X_test,y_height_test)"
   ]
  },
  {
   "cell_type": "code",
   "execution_count": 16,
   "metadata": {
    "colab": {
     "base_uri": "https://localhost:8080/"
    },
    "id": "HUjGRdg5w7mh",
    "outputId": "fcab6212-2a84-4055-bd81-d35090a8c6bb"
   },
   "outputs": [
    {
     "name": "stdout",
     "output_type": "stream",
     "text": [
      "Mean squared error: 0.00\n",
      "Variance score: 0.88\n",
      "Model Performance\n",
      "Average Error: 0.0394 degrees.\n",
      "Accuracy = 99.08%.\n"
     ]
    }
   ],
   "source": [
    "model_weight = KernelRidge(kernel='rbf', gamma=0.21,alpha=0.0017)\n",
    "\n",
    "model_weight = model_weight.fit(X_train,np.log(y_weight_train))\n",
    "\n",
    "report_goodness(model_weight,X_test,y_weight_test)"
   ]
  },
  {
   "cell_type": "code",
   "execution_count": 17,
   "metadata": {
    "colab": {
     "base_uri": "https://localhost:8080/"
    },
    "id": "sh7kmUI1w7mh",
    "outputId": "831f8b70-dea7-46de-f294-93b2498d9e48"
   },
   "outputs": [
    {
     "name": "stdout",
     "output_type": "stream",
     "text": [
      "Mean squared error: 0.00\n",
      "Variance score: 0.85\n",
      "Model Performance\n",
      "Average Error: 0.0344 degrees.\n",
      "Accuracy = 98.91%.\n"
     ]
    }
   ],
   "source": [
    "model_BMI = KernelRidge(kernel='rbf', gamma=0.21,alpha=0.0017)\n",
    "model_BMI = model_BMI.fit(X_train,np.log(y_BMI_train))\n",
    "\n",
    "report_goodness(model_BMI,X_test,y_BMI_test)"
   ]
  },
  {
   "cell_type": "code",
   "execution_count": 18,
   "metadata": {
    "colab": {
     "base_uri": "https://localhost:8080/"
    },
    "id": "1kFmywAJEfbM",
    "outputId": "7381eb18-d888-4222-f228-400ea1e50142"
   },
   "outputs": [
    {
     "name": "stdout",
     "output_type": "stream",
     "text": [
      "Requirement already satisfied: joblib in /usr/local/lib/python3.10/dist-packages (1.3.2)\n"
     ]
    },
    {
     "data": {
      "text/plain": [
       "['bmi_predictor.model']"
      ]
     },
     "execution_count": 18,
     "metadata": {},
     "output_type": "execute_result"
    }
   ],
   "source": [
    "!pip install joblib\n",
    "import joblib\n",
    "age_model = 'age_predictor'\n",
    "gender_model = 'gender_predictor'\n",
    "joblib.dump(model_age, age_model)\n",
    "joblib.dump(model_gender, gender_model)\n",
    "height_model = 'weight_predictor.model'\n",
    "weight_model = 'height_predictor.model'\n",
    "bmi_model = 'bmi_predictor.model'\n",
    "joblib.dump(model_height, height_model)\n",
    "joblib.dump(model_weight, weight_model)\n",
    "joblib.dump(model_BMI, bmi_model)"
   ]
  },
  {
   "cell_type": "code",
   "execution_count": 19,
   "metadata": {
    "id": "ks5pb21fElA-"
   },
   "outputs": [],
   "source": [
    "age_model = joblib.load(age_model)\n",
    "gender_model = joblib.load(gender_model)\n",
    "height_model = joblib.load(height_model)\n",
    "weight_model = joblib.load(weight_model)\n",
    "bmi_model = joblib.load(bmi_model)"
   ]
  },
  {
   "cell_type": "code",
   "execution_count": 20,
   "metadata": {
    "id": "OKVhppyRE9o2"
   },
   "outputs": [],
   "source": []
  },
  {
   "cell_type": "code",
   "execution_count": 25,
   "metadata": {
    "id": "7R5u42BHze0F"
   },
   "outputs": [],
   "source": [
    "def predict_age_gender(test_image, age_model, gender_model, height_model, weight_model, bmi_model):\n",
    "    test_array = np.expand_dims(np.array(get_face_encoding(test_image)), axis=0)\n",
    "    age = float(np.exp(age_model.predict(test_array))[0])\n",
    "    gender = float(np.exp(gender_model.predict(test_array))[0])\n",
    "    height = float(np.exp(height_model.predict(test_array))[0])\n",
    "    weight = float(np.exp(weight_model.predict(test_array))[0])\n",
    "    bmi = float(np.exp(bmi_model.predict(test_array))[0])\n",
    "    return {'Age': age, 'Gender': gender, 'height': height, 'weight': weight, 'bmi': bmi}\n"
   ]
  },
  {
   "cell_type": "code",
   "execution_count": 26,
   "metadata": {
    "id": "gRnOY0X1FHze"
   },
   "outputs": [],
   "source": [
    "from IPython.display import Image"
   ]
  },
  {
   "cell_type": "code",
   "execution_count": null,
   "metadata": {},
   "outputs": [],
   "source": [
    "test_image = '/content/WhatsApp Image 2023-05-25 at 7.01.00 PM.jpeg'\n",
    "Image(test_image)"
   ]
  },
  {
   "cell_type": "code",
   "execution_count": 28,
   "metadata": {
    "colab": {
     "base_uri": "https://localhost:8080/"
    },
    "id": "HXKkQyMPHUuI",
    "outputId": "0c97740b-d34b-4f1c-e3eb-e123c2800ef2"
   },
   "outputs": [
    {
     "name": "stdout",
     "output_type": "stream",
     "text": [
      "/content/WhatsApp Image 2023-05-25 at 7.01.00 PM.jpeg\n"
     ]
    },
    {
     "data": {
      "text/plain": [
       "{'Age': 33.81895112078984,\n",
       " 'Gender': 1.9454553947073534,\n",
       " 'height': 1.6889137335743203,\n",
       " 'weight': 60.49530273800276,\n",
       " 'bmi': 21.208342095076695}"
      ]
     },
     "execution_count": 28,
     "metadata": {},
     "output_type": "execute_result"
    }
   ],
   "source": [
    "predict_age_gender(test_image,age_model,gender_model,height_model,weight_model,bmi_model)"
   ]
  }
 ],
 "metadata": {
  "accelerator": "GPU",
  "colab": {
   "gpuType": "T4",
   "provenance": []
  },
  "kernelspec": {
   "display_name": "Python 3 (ipykernel)",
   "language": "python",
   "name": "python3"
  },
  "language_info": {
   "codemirror_mode": {
    "name": "ipython",
    "version": 3
   },
   "file_extension": ".py",
   "mimetype": "text/x-python",
   "name": "python",
   "nbconvert_exporter": "python",
   "pygments_lexer": "ipython3",
   "version": "3.10.9"
  }
 },
 "nbformat": 4,
 "nbformat_minor": 1
}
